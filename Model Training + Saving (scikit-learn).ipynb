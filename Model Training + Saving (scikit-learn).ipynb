{
 "cells": [
  {
   "cell_type": "markdown",
   "metadata": {},
   "source": [
    "## Using BentoML with scikit-learn\n",
    "\n",
    "In thus notebook we will wrap a Logistic Regression classifier (trained using the Titanic dataset) into a REST API endpoint using `bentoml`.\n",
    "\n",
    "BentoML makes this really easier. For details on `BentoML` head over to https://github.com/bentoml/BentoML."
   ]
  },
  {
   "cell_type": "code",
   "execution_count": 19,
   "metadata": {},
   "outputs": [],
   "source": [
    "# Import dependencies\n",
    "import pandas as pd\n",
    "import numpy as np\n",
    "import warnings\n",
    "\n",
    "warnings.filterwarnings(\"ignore\")"
   ]
  },
  {
   "cell_type": "code",
   "execution_count": 20,
   "metadata": {},
   "outputs": [],
   "source": [
    "# Load the dataset in a DataFrame object\n",
    "url = \"http://s3.amazonaws.com/assets.datacamp.com/course/Kaggle/train.csv\"\n",
    "df = pd.read_csv(url)\n",
    "\n",
    "include = ['Age', 'Sex', 'Embarked', 'Survived'] # Only four features\n",
    "df_ = df[include]"
   ]
  },
  {
   "cell_type": "code",
   "execution_count": 21,
   "metadata": {},
   "outputs": [],
   "source": [
    "# Data preprocessing: Missing value replacement with 0 and one-hot encoding of the categoricals\n",
    "categoricals = []\n",
    "for col, col_type in df_.dtypes.iteritems():\n",
    "     if col_type == 'O':\n",
    "          categoricals.append(col)\n",
    "     else:\n",
    "          df_[col].fillna(0, inplace=True)\n",
    "\n",
    "df_ohe = pd.get_dummies(df_, columns=categoricals, dummy_na=True)"
   ]
  },
  {
   "cell_type": "code",
   "execution_count": null,
   "metadata": {},
   "outputs": [],
   "source": [
    "# Ready to call clf.fit() :P\n",
    "from sklearn.linear_model import LogisticRegression\n",
    "\n",
    "dependent_variable = 'Survived'\n",
    "x = df_ohe[df_ohe.columns.difference([dependent_variable])]\n",
    "y = df_ohe[dependent_variable]\n",
    "\n",
    "lr = LogisticRegression()\n",
    "lr.fit(x, y)"
   ]
  },
  {
   "cell_type": "code",
   "execution_count": 35,
   "metadata": {},
   "outputs": [
    {
     "name": "stdout",
     "output_type": "stream",
     "text": [
      "Overwriting passenger_classifier.py\n"
     ]
    }
   ],
   "source": [
    "%%writefile passenger_classifier.py\n",
    "from bentoml import BentoService, api, env, artifacts\n",
    "from bentoml.artifact import PickleArtifact\n",
    "from bentoml.handlers import JsonHandler\n",
    "\n",
    "# Explicitly specify it\n",
    "import pandas as pd \n",
    "\n",
    "# You can also import your own python module here and BentoML will automatically\n",
    "# figure out the dependency chain and package all those python modules\n",
    "\n",
    "@artifacts([PickleArtifact('model')])\n",
    "@env(conda_pip_dependencies=[\"scikit-learn\"])\n",
    "class PassengerClassifier(BentoService):\n",
    "    \n",
    "    @api(JsonHandler)\n",
    "    def predict(self, json):\n",
    "        # Arbitrary preprocessing or feature fetching code can be placed here \n",
    "        query_df = pd.DataFrame(json)\n",
    "        query = pd.get_dummies(query_df)\n",
    "        column_names = ['Age',\n",
    "                     'Embarked_C',\n",
    "                     'Embarked_Q',\n",
    "                     'Embarked_S',\n",
    "                     'Embarked_nan',\n",
    "                     'Sex_female',\n",
    "                     'Sex_male',\n",
    "                     'Sex_nan']\n",
    "        query = query.reindex(columns=column_names, fill_value=0)\n",
    "        prediction = self.artifacts.model.predict(query)\n",
    "    \n",
    "        return prediction"
   ]
  },
  {
   "cell_type": "code",
   "execution_count": 36,
   "metadata": {},
   "outputs": [
    {
     "data": {
      "text/plain": [
       "'./bento_archive/PassengerClassifier/0.0.v0.0.1'"
      ]
     },
     "execution_count": 36,
     "metadata": {},
     "output_type": "execute_result"
    }
   ],
   "source": [
    "# 1) import the custom BentoService defined above\n",
    "from passenger_classifier import PassengerClassifier\n",
    "\n",
    "# 2) `pack` it with required artifacts\n",
    "svc = PassengerClassifier.pack(model=lr)\n",
    "\n",
    "# 3) save packed BentoService as archive\n",
    "svc.save('./bento_archive', version='v0.0.1')\n",
    "# Archive will be saved to ./bento_archive/PassengerClassifier/v0.0.1/"
   ]
  },
  {
   "cell_type": "markdown",
   "metadata": {},
   "source": [
    "When you execute `bentoml serve ./bento_archive/PassengerClassifier/0.0.v0.0.1/` you should get a trace which looks something like the following - \n",
    "```\n",
    "* Serving Flask app \"PassengerClassifier\" (lazy loading)\n",
    "* Environment: production\n",
    "  WARNING: Do not use the development server in a production environment.\n",
    "  Use a production WSGI server instead.\n",
    "* Debug mode: off\n",
    "* Running on http://127.0.0.1:5000/ (Press CTRL+C to quit)\n",
    "```"
   ]
  },
  {
   "cell_type": "markdown",
   "metadata": {},
   "source": [
    "You can now use an API client like Postman to test your API endpoint. You can send request to the endpoint with the following configuration in Postman - \n",
    "\n",
    "![](https://i.ibb.co/R21pF1f/Screen-Shot-2019-04-19-at-12-01-02-PM.png)"
   ]
  },
  {
   "cell_type": "markdown",
   "metadata": {},
   "source": [
    "When you hit the `Send` button, you should get a response like the following - \n",
    "```\n",
    "[\n",
    "    0,\n",
    "    1,\n",
    "    0,\n",
    "    0\n",
    "]\n",
    "```\n",
    "\n",
    "Feel free to map these integer values to more meaningful messages. "
   ]
  }
 ],
 "metadata": {
  "kernelspec": {
   "display_name": "Python 3",
   "language": "python",
   "name": "python3"
  },
  "language_info": {
   "codemirror_mode": {
    "name": "ipython",
    "version": 3
   },
   "file_extension": ".py",
   "mimetype": "text/x-python",
   "name": "python",
   "nbconvert_exporter": "python",
   "pygments_lexer": "ipython3",
   "version": "3.7.1"
  }
 },
 "nbformat": 4,
 "nbformat_minor": 2
}
