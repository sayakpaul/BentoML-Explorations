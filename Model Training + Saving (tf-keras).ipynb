{
 "cells": [
  {
   "cell_type": "markdown",
   "metadata": {},
   "source": [
    "In this notebook, we wrap a TensorFlow model into a REST API using `BentoML`. The datasets used here are taken from [this](https://github.com/Nilabhra/kolkata_nlp_workshop_2019) repository. The notebook also takes references from [this](https://github.com/bentoml/BentoML/blob/master/examples/tf-keras-text-classification/tf-keras-text-classification.ipynb) example notebook from BentoML itself. "
   ]
  },
  {
   "cell_type": "code",
   "execution_count": 1,
   "metadata": {},
   "outputs": [],
   "source": [
    "import pandas as pd\n",
    "\n",
    "train = pd.read_csv('https://raw.githubusercontent.com/Nilabhra/kolkata_nlp_workshop_2019/master/data/train.csv')\n",
    "validation = pd.read_csv('https://raw.githubusercontent.com/Nilabhra/kolkata_nlp_workshop_2019/master/data/valid.csv')\n",
    "test = pd.read_csv('https://raw.githubusercontent.com/Nilabhra/kolkata_nlp_workshop_2019/master/data/test.csv')"
   ]
  },
  {
   "cell_type": "code",
   "execution_count": 2,
   "metadata": {},
   "outputs": [
    {
     "data": {
      "text/plain": [
       "((9131, 3), (1142, 3), (1141, 3))"
      ]
     },
     "execution_count": 2,
     "metadata": {},
     "output_type": "execute_result"
    }
   ],
   "source": [
    "train.shape, validation.shape, test.shape"
   ]
  },
  {
   "cell_type": "code",
   "execution_count": 6,
   "metadata": {},
   "outputs": [
    {
     "data": {
      "text/html": [
       "<div>\n",
       "<style scoped>\n",
       "    .dataframe tbody tr th:only-of-type {\n",
       "        vertical-align: middle;\n",
       "    }\n",
       "\n",
       "    .dataframe tbody tr th {\n",
       "        vertical-align: top;\n",
       "    }\n",
       "\n",
       "    .dataframe thead th {\n",
       "        text-align: right;\n",
       "    }\n",
       "</style>\n",
       "<table border=\"1\" class=\"dataframe\">\n",
       "  <thead>\n",
       "    <tr style=\"text-align: right;\">\n",
       "      <th></th>\n",
       "      <th>text</th>\n",
       "      <th>class</th>\n",
       "    </tr>\n",
       "  </thead>\n",
       "  <tbody>\n",
       "    <tr>\n",
       "      <th>0</th>\n",
       "      <td>I ordered a biryani, and the taste of the Biry...</td>\n",
       "      <td>positive</td>\n",
       "    </tr>\n",
       "    <tr>\n",
       "      <th>1</th>\n",
       "      <td>A nice place to hangout since it has both the ...</td>\n",
       "      <td>positive</td>\n",
       "    </tr>\n",
       "    <tr>\n",
       "      <th>2</th>\n",
       "      <td>This place is awesome for having lunch or dinn...</td>\n",
       "      <td>positive</td>\n",
       "    </tr>\n",
       "    <tr>\n",
       "      <th>3</th>\n",
       "      <td>I got shell of egg in the egg roll. as a resul...</td>\n",
       "      <td>negative</td>\n",
       "    </tr>\n",
       "    <tr>\n",
       "      <th>4</th>\n",
       "      <td>Their biryani is oily, with a bit disconcertin...</td>\n",
       "      <td>negative</td>\n",
       "    </tr>\n",
       "  </tbody>\n",
       "</table>\n",
       "</div>"
      ],
      "text/plain": [
       "                                                text     class\n",
       "0  I ordered a biryani, and the taste of the Biry...  positive\n",
       "1  A nice place to hangout since it has both the ...  positive\n",
       "2  This place is awesome for having lunch or dinn...  positive\n",
       "3  I got shell of egg in the egg roll. as a resul...  negative\n",
       "4  Their biryani is oily, with a bit disconcertin...  negative"
      ]
     },
     "execution_count": 6,
     "metadata": {},
     "output_type": "execute_result"
    }
   ],
   "source": [
    "train.head()"
   ]
  },
  {
   "cell_type": "code",
   "execution_count": 7,
   "metadata": {},
   "outputs": [
    {
     "data": {
      "text/html": [
       "<div>\n",
       "<style scoped>\n",
       "    .dataframe tbody tr th:only-of-type {\n",
       "        vertical-align: middle;\n",
       "    }\n",
       "\n",
       "    .dataframe tbody tr th {\n",
       "        vertical-align: top;\n",
       "    }\n",
       "\n",
       "    .dataframe thead th {\n",
       "        text-align: right;\n",
       "    }\n",
       "</style>\n",
       "<table border=\"1\" class=\"dataframe\">\n",
       "  <thead>\n",
       "    <tr style=\"text-align: right;\">\n",
       "      <th></th>\n",
       "      <th>text</th>\n",
       "      <th>class</th>\n",
       "    </tr>\n",
       "  </thead>\n",
       "  <tbody>\n",
       "    <tr>\n",
       "      <th>0</th>\n",
       "      <td>The food was excellent with surplus quantity. ...</td>\n",
       "      <td>positive</td>\n",
       "    </tr>\n",
       "    <tr>\n",
       "      <th>1</th>\n",
       "      <td>This place nearer to the Gitanjali metro stati...</td>\n",
       "      <td>positive</td>\n",
       "    </tr>\n",
       "    <tr>\n",
       "      <th>2</th>\n",
       "      <td>Ordered for Aloo tikki with choley just now @0...</td>\n",
       "      <td>negative</td>\n",
       "    </tr>\n",
       "    <tr>\n",
       "      <th>3</th>\n",
       "      <td>Hatari is one of those restaurants that our fa...</td>\n",
       "      <td>positive</td>\n",
       "    </tr>\n",
       "    <tr>\n",
       "      <th>4</th>\n",
       "      <td>Disappointing.......\\nThey have altered the ta...</td>\n",
       "      <td>negative</td>\n",
       "    </tr>\n",
       "  </tbody>\n",
       "</table>\n",
       "</div>"
      ],
      "text/plain": [
       "                                                text     class\n",
       "0  The food was excellent with surplus quantity. ...  positive\n",
       "1  This place nearer to the Gitanjali metro stati...  positive\n",
       "2  Ordered for Aloo tikki with choley just now @0...  negative\n",
       "3  Hatari is one of those restaurants that our fa...  positive\n",
       "4  Disappointing.......\\nThey have altered the ta...  negative"
      ]
     },
     "execution_count": 7,
     "metadata": {},
     "output_type": "execute_result"
    }
   ],
   "source": [
    "validation.head()"
   ]
  },
  {
   "cell_type": "code",
   "execution_count": 8,
   "metadata": {},
   "outputs": [
    {
     "data": {
      "text/html": [
       "<div>\n",
       "<style scoped>\n",
       "    .dataframe tbody tr th:only-of-type {\n",
       "        vertical-align: middle;\n",
       "    }\n",
       "\n",
       "    .dataframe tbody tr th {\n",
       "        vertical-align: top;\n",
       "    }\n",
       "\n",
       "    .dataframe thead th {\n",
       "        text-align: right;\n",
       "    }\n",
       "</style>\n",
       "<table border=\"1\" class=\"dataframe\">\n",
       "  <thead>\n",
       "    <tr style=\"text-align: right;\">\n",
       "      <th></th>\n",
       "      <th>text</th>\n",
       "      <th>class</th>\n",
       "    </tr>\n",
       "  </thead>\n",
       "  <tbody>\n",
       "    <tr>\n",
       "      <th>0</th>\n",
       "      <td>This place is amazing. I think the best place ...</td>\n",
       "      <td>positive</td>\n",
       "    </tr>\n",
       "    <tr>\n",
       "      <th>1</th>\n",
       "      <td>This place has been on my list for quite some ...</td>\n",
       "      <td>positive</td>\n",
       "    </tr>\n",
       "    <tr>\n",
       "      <th>2</th>\n",
       "      <td>What a wonderful cold winter evening it was. M...</td>\n",
       "      <td>positive</td>\n",
       "    </tr>\n",
       "    <tr>\n",
       "      <th>3</th>\n",
       "      <td>BabBQ had always been a personal favorite when...</td>\n",
       "      <td>positive</td>\n",
       "    </tr>\n",
       "    <tr>\n",
       "      <th>4</th>\n",
       "      <td>Know for its Deep Dish Pizza this place is sur...</td>\n",
       "      <td>negative</td>\n",
       "    </tr>\n",
       "  </tbody>\n",
       "</table>\n",
       "</div>"
      ],
      "text/plain": [
       "                                                text     class\n",
       "0  This place is amazing. I think the best place ...  positive\n",
       "1  This place has been on my list for quite some ...  positive\n",
       "2  What a wonderful cold winter evening it was. M...  positive\n",
       "3  BabBQ had always been a personal favorite when...  positive\n",
       "4  Know for its Deep Dish Pizza this place is sur...  negative"
      ]
     },
     "execution_count": 8,
     "metadata": {},
     "output_type": "execute_result"
    }
   ],
   "source": [
    "test.head()"
   ]
  },
  {
   "cell_type": "code",
   "execution_count": 9,
   "metadata": {},
   "outputs": [
    {
     "data": {
      "text/plain": [
       "'I ordered a biryani, and the taste of the Biryani was beyond my expectations and the quantity was also enough comparatively to the price!\\nReally nice much appreciable'"
      ]
     },
     "execution_count": 9,
     "metadata": {},
     "output_type": "execute_result"
    }
   ],
   "source": [
    "train['text'].loc[0]"
   ]
  },
  {
   "cell_type": "markdown",
   "metadata": {},
   "source": [
    "### Removing digits for the text"
   ]
  },
  {
   "cell_type": "code",
   "execution_count": 2,
   "metadata": {},
   "outputs": [],
   "source": [
    "from string import digits\n",
    "\n",
    "def remove_digits(s):\n",
    "    remove_digits = str.maketrans('', '', digits)\n",
    "    res = s.translate(remove_digits)\n",
    "    return res"
   ]
  },
  {
   "cell_type": "code",
   "execution_count": 3,
   "metadata": {},
   "outputs": [],
   "source": [
    "train['text'] = train['text'].apply(remove_digits)\n",
    "validation['text'] = validation['text'].apply(remove_digits)"
   ]
  },
  {
   "cell_type": "markdown",
   "metadata": {},
   "source": [
    "### Bag of words representation "
   ]
  },
  {
   "cell_type": "code",
   "execution_count": 4,
   "metadata": {},
   "outputs": [],
   "source": [
    "from sklearn.feature_extraction.text import CountVectorizer\n",
    "\n",
    "vectorizer = CountVectorizer(stop_words=None, lowercase=True,\n",
    "                             ngram_range=(1, 1), min_df=2, binary=True)\n",
    "\n",
    "train_features = vectorizer.fit_transform(train['text'])\n",
    "train_labels = train['class']\n",
    "\n",
    "valid_features = vectorizer.transform(validation['text'])\n",
    "valid_labels = validation['class']"
   ]
  },
  {
   "cell_type": "markdown",
   "metadata": {},
   "source": [
    "## Label encode the classes"
   ]
  },
  {
   "cell_type": "code",
   "execution_count": 5,
   "metadata": {},
   "outputs": [],
   "source": [
    "from sklearn.preprocessing import LabelEncoder\n",
    "\n",
    "le = LabelEncoder()\n",
    "train_labels = le.fit_transform(train_labels)\n",
    "valid_labels = le.transform(valid_labels)"
   ]
  },
  {
   "cell_type": "markdown",
   "metadata": {},
   "source": [
    "### Model building and compilation"
   ]
  },
  {
   "cell_type": "code",
   "execution_count": 8,
   "metadata": {},
   "outputs": [],
   "source": [
    "import tensorflow as tf\n",
    "from tensorflow import keras\n",
    "from tensorflow.keras.layers import Dropout, Dense"
   ]
  },
  {
   "cell_type": "code",
   "execution_count": 7,
   "metadata": {},
   "outputs": [
    {
     "name": "stdout",
     "output_type": "stream",
     "text": [
      "WARNING:tensorflow:From /miniconda3/lib/python3.7/site-packages/tensorflow/python/keras/layers/core.py:143: calling dropout (from tensorflow.python.ops.nn_ops) with keep_prob is deprecated and will be removed in a future version.\n",
      "Instructions for updating:\n",
      "Please use `rate` instead of `keep_prob`. Rate should be set to `rate = 1 - keep_prob`.\n",
      "WARNING:tensorflow:From /miniconda3/lib/python3.7/site-packages/tensorflow/python/ops/control_flow_ops.py:423: colocate_with (from tensorflow.python.framework.ops) is deprecated and will be removed in a future version.\n",
      "Instructions for updating:\n",
      "Colocations handled automatically by placer.\n"
     ]
    }
   ],
   "source": [
    "model = keras.Sequential()\n",
    "\n",
    "model.add(Dropout(rate=0.2, input_shape=train_features.shape[1:]))\n",
    "for _ in range(2):\n",
    "        model.add(Dense(units=64, activation='relu'))\n",
    "        model.add(Dropout(rate=0.2))\n",
    "model.add(Dense(units=1, activation='sigmoid'))"
   ]
  },
  {
   "cell_type": "code",
   "execution_count": 8,
   "metadata": {},
   "outputs": [],
   "source": [
    "model.compile(optimizer='adam',\n",
    "              loss='binary_crossentropy',\n",
    "              metrics=['acc'])"
   ]
  },
  {
   "cell_type": "code",
   "execution_count": 9,
   "metadata": {},
   "outputs": [],
   "source": [
    "# Define an EarlyStopping callback\n",
    "es_cb = keras.callbacks.EarlyStopping(monitor='val_loss', patience=5)"
   ]
  },
  {
   "cell_type": "markdown",
   "metadata": {},
   "source": [
    "### We are ready to train the model and validate"
   ]
  },
  {
   "cell_type": "code",
   "execution_count": 10,
   "metadata": {},
   "outputs": [
    {
     "name": "stdout",
     "output_type": "stream",
     "text": [
      "Train on 9131 samples, validate on 1142 samples\n",
      "WARNING:tensorflow:From /miniconda3/lib/python3.7/site-packages/tensorflow/python/ops/math_ops.py:3066: to_int32 (from tensorflow.python.ops.math_ops) is deprecated and will be removed in a future version.\n",
      "Instructions for updating:\n",
      "Use tf.cast instead.\n",
      "Epoch 1/15\n",
      "9131/9131 [==============================] - 2s 239us/sample - loss: 0.6259 - acc: 0.6387 - val_loss: 0.5557 - val_acc: 0.6778\n",
      "Epoch 2/15\n",
      "9131/9131 [==============================] - 2s 166us/sample - loss: 0.5050 - acc: 0.7561 - val_loss: 0.4442 - val_acc: 0.8196\n",
      "Epoch 3/15\n",
      "9131/9131 [==============================] - 2s 187us/sample - loss: 0.3999 - acc: 0.8288 - val_loss: 0.4068 - val_acc: 0.8319\n",
      "Epoch 4/15\n",
      "9131/9131 [==============================] - 2s 165us/sample - loss: 0.3430 - acc: 0.8543 - val_loss: 0.4028 - val_acc: 0.8363\n",
      "Epoch 5/15\n",
      "9131/9131 [==============================] - 1s 157us/sample - loss: 0.2979 - acc: 0.8773 - val_loss: 0.4079 - val_acc: 0.8363\n",
      "Epoch 6/15\n",
      "9131/9131 [==============================] - 1s 160us/sample - loss: 0.2606 - acc: 0.8953 - val_loss: 0.4325 - val_acc: 0.8257\n",
      "Epoch 7/15\n",
      "9131/9131 [==============================] - 2s 196us/sample - loss: 0.2247 - acc: 0.9114 - val_loss: 0.4514 - val_acc: 0.8152\n",
      "Epoch 8/15\n",
      "9131/9131 [==============================] - 2s 184us/sample - loss: 0.2043 - acc: 0.9193 - val_loss: 0.4662 - val_acc: 0.8249\n",
      "Epoch 9/15\n",
      "9131/9131 [==============================] - 2s 182us/sample - loss: 0.1811 - acc: 0.9291 - val_loss: 0.4950 - val_acc: 0.8170\n"
     ]
    },
    {
     "data": {
      "text/plain": [
       "<tensorflow.python.keras.callbacks.History at 0x127987710>"
      ]
     },
     "execution_count": 10,
     "metadata": {},
     "output_type": "execute_result"
    }
   ],
   "source": [
    "model.fit(train_features,\n",
    "                    train_labels,\n",
    "                    epochs=15,\n",
    "                    batch_size=512,\n",
    "                    validation_data=(valid_features, valid_labels),\n",
    "                    callbacks=[es_cb],\n",
    "                    verbose=1)"
   ]
  },
  {
   "cell_type": "markdown",
   "metadata": {},
   "source": [
    "### How good is the model? "
   ]
  },
  {
   "cell_type": "code",
   "execution_count": 11,
   "metadata": {},
   "outputs": [],
   "source": [
    "test['text'] = test['text'].apply(remove_digits)\n",
    "test_features = vectorizer.transform(test['text'])\n",
    "test_labels = le.transform(test['class'])"
   ]
  },
  {
   "cell_type": "code",
   "execution_count": 12,
   "metadata": {},
   "outputs": [
    {
     "name": "stdout",
     "output_type": "stream",
     "text": [
      "1141/1141 [==============================] - 0s 116us/sample - loss: 0.6009 - acc: 0.7765\n",
      "Accuracy: 77.65%\n"
     ]
    }
   ],
   "source": [
    "results = model.evaluate(test_features, test_labels)\n",
    "print(\"Accuracy: {0:.2f}%\".format(results[1]*100.))"
   ]
  },
  {
   "cell_type": "markdown",
   "metadata": {},
   "source": [
    "### Combining the training and validation sets and retraining the model"
   ]
  },
  {
   "cell_type": "code",
   "execution_count": 6,
   "metadata": {},
   "outputs": [],
   "source": [
    "data = pd.concat((train, validation), axis=0)\n",
    "\n",
    "vectorizer = CountVectorizer(stop_words=None, lowercase=True,\n",
    "                             ngram_range=(1, 1), min_df=2)\n",
    "\n",
    "features = vectorizer.fit_transform(data['text'])\n",
    "labels = le.fit_transform(data['class'])\n",
    "\n",
    "test_features = vectorizer.transform(test['text'])\n",
    "test_labels = le.transform(test['class'])"
   ]
  },
  {
   "cell_type": "code",
   "execution_count": 10,
   "metadata": {},
   "outputs": [
    {
     "name": "stdout",
     "output_type": "stream",
     "text": [
      "WARNING:tensorflow:From /miniconda3/lib/python3.7/site-packages/tensorflow/python/keras/layers/core.py:143: calling dropout (from tensorflow.python.ops.nn_ops) with keep_prob is deprecated and will be removed in a future version.\n",
      "Instructions for updating:\n",
      "Please use `rate` instead of `keep_prob`. Rate should be set to `rate = 1 - keep_prob`.\n",
      "WARNING:tensorflow:From /miniconda3/lib/python3.7/site-packages/tensorflow/python/ops/control_flow_ops.py:423: colocate_with (from tensorflow.python.framework.ops) is deprecated and will be removed in a future version.\n",
      "Instructions for updating:\n",
      "Colocations handled automatically by placer.\n"
     ]
    }
   ],
   "source": [
    "model = keras.Sequential()\n",
    "\n",
    "model.add(Dropout(rate=0.2, input_shape=features.shape[1:]))\n",
    "model.add(Dense(units=64, activation='relu'))\n",
    "model.add(Dropout(rate=0.2))\n",
    "model.add(Dense(units=64, activation='relu'))\n",
    "model.add(Dropout(rate=0.2))\n",
    "model.add(Dense(units=1, activation='sigmoid'))\n",
    "\n",
    "model.compile(optimizer='adam',\n",
    "              loss='binary_crossentropy',\n",
    "              metrics=['acc'])"
   ]
  },
  {
   "cell_type": "code",
   "execution_count": 11,
   "metadata": {},
   "outputs": [],
   "source": [
    "model.compile(optimizer='adam',\n",
    "              loss='binary_crossentropy',\n",
    "              metrics=['acc'])"
   ]
  },
  {
   "cell_type": "code",
   "execution_count": 12,
   "metadata": {},
   "outputs": [
    {
     "name": "stdout",
     "output_type": "stream",
     "text": [
      "Train on 10273 samples, validate on 1141 samples\n",
      "WARNING:tensorflow:From /miniconda3/lib/python3.7/site-packages/tensorflow/python/ops/math_ops.py:3066: to_int32 (from tensorflow.python.ops.math_ops) is deprecated and will be removed in a future version.\n",
      "Instructions for updating:\n",
      "Use tf.cast instead.\n",
      "Epoch 1/15\n",
      "10273/10273 [==============================] - 2s 202us/sample - loss: 0.6314 - acc: 0.6277 - val_loss: 0.5627 - val_acc: 0.7038\n",
      "Epoch 2/15\n",
      "10273/10273 [==============================] - 2s 187us/sample - loss: 0.5165 - acc: 0.7538 - val_loss: 0.4541 - val_acc: 0.8081\n",
      "Epoch 3/15\n",
      "10273/10273 [==============================] - 2s 180us/sample - loss: 0.4195 - acc: 0.8229 - val_loss: 0.4287 - val_acc: 0.8238\n",
      "Epoch 4/15\n",
      "10273/10273 [==============================] - 2s 176us/sample - loss: 0.3620 - acc: 0.8493 - val_loss: 0.4286 - val_acc: 0.8221\n",
      "Epoch 5/15\n",
      "10273/10273 [==============================] - 2s 171us/sample - loss: 0.3192 - acc: 0.8736 - val_loss: 0.4589 - val_acc: 0.8221\n",
      "Epoch 6/15\n",
      "10273/10273 [==============================] - 2s 169us/sample - loss: 0.2809 - acc: 0.8873 - val_loss: 0.4652 - val_acc: 0.8151\n",
      "Epoch 7/15\n",
      "10273/10273 [==============================] - 2s 168us/sample - loss: 0.2427 - acc: 0.9047 - val_loss: 0.4961 - val_acc: 0.8151\n",
      "Epoch 8/15\n",
      "10273/10273 [==============================] - 2s 175us/sample - loss: 0.2139 - acc: 0.9171 - val_loss: 0.5220 - val_acc: 0.7967\n",
      "Epoch 9/15\n",
      "10273/10273 [==============================] - 2s 215us/sample - loss: 0.1886 - acc: 0.9267 - val_loss: 0.5636 - val_acc: 0.7940\n"
     ]
    },
    {
     "data": {
      "text/plain": [
       "<tensorflow.python.keras.callbacks.History at 0x12cb384e0>"
      ]
     },
     "execution_count": 12,
     "metadata": {},
     "output_type": "execute_result"
    }
   ],
   "source": [
    "model.fit(features,\n",
    "                    labels,\n",
    "                    epochs=15,\n",
    "                    batch_size=512,\n",
    "                    validation_data=(test_features, test_labels),\n",
    "                    callbacks=[es_cb],\n",
    "                    verbose=1)"
   ]
  },
  {
   "cell_type": "markdown",
   "metadata": {},
   "source": [
    "> We will use this model for serving. "
   ]
  },
  {
   "cell_type": "markdown",
   "metadata": {},
   "source": [
    "### Inferencing on a single test sample"
   ]
  },
  {
   "cell_type": "code",
   "execution_count": 19,
   "metadata": {},
   "outputs": [
    {
     "name": "stderr",
     "output_type": "stream",
     "text": [
      "/miniconda3/lib/python3.7/site-packages/sklearn/preprocessing/label.py:273: DataConversionWarning: A column-vector y was passed when a 1d array was expected. Please change the shape of y to (n_samples, ), for example using ravel().\n",
      "  y = column_or_1d(y, warn=True)\n"
     ]
    },
    {
     "data": {
      "text/plain": [
       "array(['negative'], dtype=object)"
      ]
     },
     "execution_count": 19,
     "metadata": {},
     "output_type": "execute_result"
    }
   ],
   "source": [
    "test_sample = vectorizer.transform([remove_digits('I had a very bad experience you know.')])\n",
    "le.inverse_transform(model.predict_classes(test_sample))"
   ]
  },
  {
   "cell_type": "markdown",
   "metadata": {},
   "source": [
    "### Model saving and serving just got easier"
   ]
  },
  {
   "cell_type": "code",
   "execution_count": 13,
   "metadata": {},
   "outputs": [
    {
     "name": "stdout",
     "output_type": "stream",
     "text": [
      "Writing text_classification_service.py\n"
     ]
    }
   ],
   "source": [
    "%%writefile text_classification_service.py\n",
    "import pandas as pd\n",
    "from tensorflow import keras\n",
    "import tensorflow as tf\n",
    "from string import digits\n",
    "from bentoml import api, env, BentoService, artifacts\n",
    "from bentoml.artifact import TfKerasModelArtifact, PickleArtifact\n",
    "from bentoml.handlers import JsonHandler\n",
    "\n",
    "@artifacts([\n",
    "  TfKerasModelArtifact('model'),\n",
    "  PickleArtifact('vectorizer')\n",
    "])\n",
    "@env(conda_dependencies=['tensorflow', 'scikit-learn'])\n",
    "class TextClassificationService(BentoService):\n",
    "    \n",
    "    @api(JsonHandler)\n",
    "    def predict(self, parsed_json):\n",
    "        text = parsed_json['text']\n",
    "        remove_digits = str.maketrans('', '', digits)\n",
    "        text = text.translate(remove_digits)\n",
    "        text = self.artifacts.vectorizer.transform([text])\n",
    "        prediction =  self.artifacts.model.predict_classes(text)\n",
    "        response = {'Sentiment': prediction}\n",
    "        \n",
    "        return response"
   ]
  },
  {
   "cell_type": "code",
   "execution_count": 14,
   "metadata": {},
   "outputs": [
    {
     "name": "stdout",
     "output_type": "stream",
     "text": [
      "./text_classification/TextClassificationService/0.0.2019_04_19_c1c58d4d\n",
      "Dockerfile                \u001b[34mTextClassificationService\u001b[m\u001b[m requirements.txt\r\n",
      "MANIFEST.in               bentoml.yml               setup.py\r\n",
      "README.md                 environment.yml\r\n"
     ]
    }
   ],
   "source": [
    "from text_classification_service import TextClassificationService\n",
    "\n",
    "# Construct the vectorizer once again for the artifact\n",
    "vectorizer = CountVectorizer(stop_words=None, lowercase=True,\n",
    "                             ngram_range=(1, 1), min_df=2)\n",
    "\n",
    "train = pd.read_csv('https://raw.githubusercontent.com/Nilabhra/kolkata_nlp_workshop_2019/master/data/train.csv')\n",
    "validation = pd.read_csv('https://raw.githubusercontent.com/Nilabhra/kolkata_nlp_workshop_2019/master/data/valid.csv')\n",
    "\n",
    "def remove_digits(s):\n",
    "    remove_digits = str.maketrans('', '', digits)\n",
    "    res = s.translate(remove_digits)\n",
    "    return res\n",
    "\n",
    "train['text'] = train['text'].apply(remove_digits)\n",
    "validation['text'] = validation['text'].apply(remove_digits)\n",
    "\n",
    "data = pd.concat((train, validation), axis=0)\n",
    "\n",
    "vectorizer.fit_transform(data['text'])\n",
    "\n",
    "features = vectorizer.fit_transform(data['text'])\n",
    "\n",
    "# Save and serve\n",
    "svc = TextClassificationService.pack(model=model, vectorizer=vectorizer)\n",
    "saved_path = svc.save('./text_classification')\n",
    "print(saved_path)\n",
    "!ls {saved_path}"
   ]
  },
  {
   "cell_type": "code",
   "execution_count": 15,
   "metadata": {},
   "outputs": [
    {
     "data": {
      "text/plain": [
       "{'Sentiment': array([[1]], dtype=int32)}"
      ]
     },
     "execution_count": 15,
     "metadata": {},
     "output_type": "execute_result"
    }
   ],
   "source": [
    "svc.predict({\"text\": \"I had a wonderful experience eating their chicken noodles! Also loved the ambience.\"})"
   ]
  },
  {
   "cell_type": "markdown",
   "metadata": {},
   "source": [
    "> Correct! "
   ]
  }
 ],
 "metadata": {
  "kernelspec": {
   "display_name": "Python 3",
   "language": "python",
   "name": "python3"
  },
  "language_info": {
   "codemirror_mode": {
    "name": "ipython",
    "version": 3
   },
   "file_extension": ".py",
   "mimetype": "text/x-python",
   "name": "python",
   "nbconvert_exporter": "python",
   "pygments_lexer": "ipython3",
   "version": "3.7.1"
  }
 },
 "nbformat": 4,
 "nbformat_minor": 2
}
